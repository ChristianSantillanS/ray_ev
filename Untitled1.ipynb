{
 "cells": [
  {
   "cell_type": "code",
   "execution_count": 1,
   "id": "a76fcced",
   "metadata": {},
   "outputs": [
    {
     "name": "stdout",
     "output_type": "stream",
     "text": [
      "Requirement already satisfied: ray[serve] in c:\\users\\santi\\anaconda3\\lib\\site-packages (1.9.0)\n",
      "Requirement already satisfied: redis>=3.5.0 in c:\\users\\santi\\anaconda3\\lib\\site-packages (from ray[serve]) (4.1.4)\n",
      "Requirement already satisfied: click>=7.0 in c:\\users\\santi\\anaconda3\\lib\\site-packages (from ray[serve]) (8.0.3)\n",
      "Requirement already satisfied: filelock in c:\\users\\santi\\anaconda3\\lib\\site-packages (from ray[serve]) (3.3.1)\n",
      "Requirement already satisfied: protobuf>=3.15.3 in c:\\users\\santi\\anaconda3\\lib\\site-packages (from ray[serve]) (3.19.4)\n",
      "Requirement already satisfied: msgpack<2.0.0,>=1.0.0 in c:\\users\\santi\\anaconda3\\lib\\site-packages (from ray[serve]) (1.0.2)\n",
      "Requirement already satisfied: numpy>=1.19.3 in c:\\users\\santi\\anaconda3\\lib\\site-packages (from ray[serve]) (1.20.3)\n",
      "Requirement already satisfied: attrs in c:\\users\\santi\\anaconda3\\lib\\site-packages (from ray[serve]) (21.2.0)\n",
      "Requirement already satisfied: grpcio>=1.28.1 in c:\\users\\santi\\anaconda3\\lib\\site-packages (from ray[serve]) (1.43.0)\n",
      "Requirement already satisfied: jsonschema in c:\\users\\santi\\anaconda3\\lib\\site-packages (from ray[serve]) (3.2.0)\n",
      "Requirement already satisfied: pyyaml in c:\\users\\santi\\anaconda3\\lib\\site-packages (from ray[serve]) (6.0)\n",
      "Requirement already satisfied: uvicorn in c:\\users\\santi\\anaconda3\\lib\\site-packages (from ray[serve]) (0.17.5)\n",
      "Requirement already satisfied: requests in c:\\users\\santi\\anaconda3\\lib\\site-packages (from ray[serve]) (2.26.0)\n",
      "Requirement already satisfied: gpustat>=1.0.0b1 in c:\\users\\santi\\anaconda3\\lib\\site-packages (from ray[serve]) (1.0.0b1)\n",
      "Requirement already satisfied: opencensus in c:\\users\\santi\\anaconda3\\lib\\site-packages (from ray[serve]) (0.8.0)\n",
      "Requirement already satisfied: frozenlist in c:\\users\\santi\\anaconda3\\lib\\site-packages (from ray[serve]) (1.3.0)\n",
      "Requirement already satisfied: smart-open in c:\\users\\santi\\anaconda3\\lib\\site-packages (from ray[serve]) (5.2.1)\n",
      "Requirement already satisfied: py-spy>=0.2.0 in c:\\users\\santi\\anaconda3\\lib\\site-packages (from ray[serve]) (0.3.11)\n",
      "Requirement already satisfied: colorful in c:\\users\\santi\\anaconda3\\lib\\site-packages (from ray[serve]) (0.5.4)\n",
      "Requirement already satisfied: fastapi in c:\\users\\santi\\anaconda3\\lib\\site-packages (from ray[serve]) (0.74.1)\n",
      "Requirement already satisfied: prometheus-client>=0.7.1 in c:\\users\\santi\\anaconda3\\lib\\site-packages (from ray[serve]) (0.11.0)\n",
      "Requirement already satisfied: aioredis<2 in c:\\users\\santi\\anaconda3\\lib\\site-packages (from ray[serve]) (1.3.1)\n",
      "Requirement already satisfied: aiohttp-cors in c:\\users\\santi\\anaconda3\\lib\\site-packages (from ray[serve]) (0.7.0)\n",
      "Requirement already satisfied: starlette in c:\\users\\santi\\anaconda3\\lib\\site-packages (from ray[serve]) (0.17.1)\n",
      "Requirement already satisfied: aiohttp>=3.7 in c:\\users\\santi\\anaconda3\\lib\\site-packages (from ray[serve]) (3.8.1)\n",
      "Requirement already satisfied: aiosignal in c:\\users\\santi\\anaconda3\\lib\\site-packages (from ray[serve]) (1.2.0)\n",
      "Requirement already satisfied: yarl<2.0,>=1.0 in c:\\users\\santi\\anaconda3\\lib\\site-packages (from aiohttp>=3.7->ray[serve]) (1.7.2)\n",
      "Requirement already satisfied: multidict<7.0,>=4.5 in c:\\users\\santi\\anaconda3\\lib\\site-packages (from aiohttp>=3.7->ray[serve]) (6.0.2)\n",
      "Requirement already satisfied: async-timeout<5.0,>=4.0.0a3 in c:\\users\\santi\\anaconda3\\lib\\site-packages (from aiohttp>=3.7->ray[serve]) (4.0.2)\n",
      "Requirement already satisfied: charset-normalizer<3.0,>=2.0 in c:\\users\\santi\\anaconda3\\lib\\site-packages (from aiohttp>=3.7->ray[serve]) (2.0.4)\n",
      "Requirement already satisfied: hiredis in c:\\users\\santi\\anaconda3\\lib\\site-packages (from aioredis<2->ray[serve]) (2.0.0)\n",
      "Requirement already satisfied: colorama in c:\\users\\santi\\anaconda3\\lib\\site-packages (from click>=7.0->ray[serve]) (0.4.4)\n",
      "Requirement already satisfied: six>=1.7 in c:\\users\\santi\\anaconda3\\lib\\site-packages (from gpustat>=1.0.0b1->ray[serve]) (1.16.0)\n",
      "Requirement already satisfied: nvidia-ml-py3>=7.352.0 in c:\\users\\santi\\anaconda3\\lib\\site-packages (from gpustat>=1.0.0b1->ray[serve]) (7.352.0)\n",
      "Requirement already satisfied: psutil in c:\\users\\santi\\anaconda3\\lib\\site-packages (from gpustat>=1.0.0b1->ray[serve]) (5.8.0)\n",
      "Requirement already satisfied: blessed>=1.17.1 in c:\\users\\santi\\anaconda3\\lib\\site-packages (from gpustat>=1.0.0b1->ray[serve]) (1.19.1)\n",
      "Requirement already satisfied: jinxed>=1.1.0 in c:\\users\\santi\\anaconda3\\lib\\site-packages (from blessed>=1.17.1->gpustat>=1.0.0b1->ray[serve]) (1.1.0)\n",
      "Requirement already satisfied: wcwidth>=0.1.4 in c:\\users\\santi\\anaconda3\\lib\\site-packages (from blessed>=1.17.1->gpustat>=1.0.0b1->ray[serve]) (0.2.5)\n",
      "Requirement already satisfied: ansicon in c:\\users\\santi\\anaconda3\\lib\\site-packages (from jinxed>=1.1.0->blessed>=1.17.1->gpustat>=1.0.0b1->ray[serve]) (1.89.0)\n",
      "Requirement already satisfied: packaging>=20.4 in c:\\users\\santi\\anaconda3\\lib\\site-packages (from redis>=3.5.0->ray[serve]) (21.0)\n",
      "Requirement already satisfied: deprecated>=1.2.3 in c:\\users\\santi\\anaconda3\\lib\\site-packages (from redis>=3.5.0->ray[serve]) (1.2.13)\n",
      "Requirement already satisfied: wrapt<2,>=1.10 in c:\\users\\santi\\anaconda3\\lib\\site-packages (from deprecated>=1.2.3->redis>=3.5.0->ray[serve]) (1.12.1)\n",
      "Requirement already satisfied: pyparsing>=2.0.2 in c:\\users\\santi\\anaconda3\\lib\\site-packages (from packaging>=20.4->redis>=3.5.0->ray[serve]) (3.0.4)\n",
      "Requirement already satisfied: idna>=2.0 in c:\\users\\santi\\anaconda3\\lib\\site-packages (from yarl<2.0,>=1.0->aiohttp>=3.7->ray[serve]) (3.2)\n",
      "Requirement already satisfied: pydantic!=1.7,!=1.7.1,!=1.7.2,!=1.7.3,!=1.8,!=1.8.1,<2.0.0,>=1.6.2 in c:\\users\\santi\\anaconda3\\lib\\site-packages (from fastapi->ray[serve]) (1.9.0)\n",
      "Requirement already satisfied: anyio<4,>=3.0.0 in c:\\users\\santi\\anaconda3\\lib\\site-packages (from starlette->ray[serve]) (3.5.0)\n",
      "Requirement already satisfied: sniffio>=1.1 in c:\\users\\santi\\anaconda3\\lib\\site-packages (from anyio<4,>=3.0.0->starlette->ray[serve]) (1.2.0)\n",
      "Requirement already satisfied: typing-extensions>=3.7.4.3 in c:\\users\\santi\\anaconda3\\lib\\site-packages (from pydantic!=1.7,!=1.7.1,!=1.7.2,!=1.7.3,!=1.8,!=1.8.1,<2.0.0,>=1.6.2->fastapi->ray[serve]) (3.10.0.2)\n",
      "Requirement already satisfied: pyrsistent>=0.14.0 in c:\\users\\santi\\anaconda3\\lib\\site-packages (from jsonschema->ray[serve]) (0.18.0)\n",
      "Requirement already satisfied: setuptools in c:\\users\\santi\\anaconda3\\lib\\site-packages (from jsonschema->ray[serve]) (58.0.4)\n",
      "Requirement already satisfied: opencensus-context==0.1.2 in c:\\users\\santi\\anaconda3\\lib\\site-packages (from opencensus->ray[serve]) (0.1.2)\n",
      "Requirement already satisfied: google-api-core<3.0.0,>=1.0.0 in c:\\users\\santi\\anaconda3\\lib\\site-packages (from opencensus->ray[serve]) (2.5.0)\n",
      "Requirement already satisfied: googleapis-common-protos<2.0dev,>=1.52.0 in c:\\users\\santi\\anaconda3\\lib\\site-packages (from google-api-core<3.0.0,>=1.0.0->opencensus->ray[serve]) (1.55.0)\n",
      "Requirement already satisfied: google-auth<3.0dev,>=1.25.0 in c:\\users\\santi\\anaconda3\\lib\\site-packages (from google-api-core<3.0.0,>=1.0.0->opencensus->ray[serve]) (2.6.0)\n",
      "Requirement already satisfied: rsa<5,>=3.1.4 in c:\\users\\santi\\anaconda3\\lib\\site-packages (from google-auth<3.0dev,>=1.25.0->google-api-core<3.0.0,>=1.0.0->opencensus->ray[serve]) (4.8)\n",
      "Requirement already satisfied: pyasn1-modules>=0.2.1 in c:\\users\\santi\\anaconda3\\lib\\site-packages (from google-auth<3.0dev,>=1.25.0->google-api-core<3.0.0,>=1.0.0->opencensus->ray[serve]) (0.2.8)\n",
      "Requirement already satisfied: cachetools<6.0,>=2.0.0 in c:\\users\\santi\\anaconda3\\lib\\site-packages (from google-auth<3.0dev,>=1.25.0->google-api-core<3.0.0,>=1.0.0->opencensus->ray[serve]) (5.0.0)\n",
      "Requirement already satisfied: pyasn1<0.5.0,>=0.4.6 in c:\\users\\santi\\anaconda3\\lib\\site-packages (from pyasn1-modules>=0.2.1->google-auth<3.0dev,>=1.25.0->google-api-core<3.0.0,>=1.0.0->opencensus->ray[serve]) (0.4.8)\n",
      "Requirement already satisfied: urllib3<1.27,>=1.21.1 in c:\\users\\santi\\anaconda3\\lib\\site-packages (from requests->ray[serve]) (1.26.7)\n",
      "Requirement already satisfied: certifi>=2017.4.17 in c:\\users\\santi\\anaconda3\\lib\\site-packages (from requests->ray[serve]) (2021.10.8)\n",
      "Requirement already satisfied: asgiref>=3.4.0 in c:\\users\\santi\\anaconda3\\lib\\site-packages (from uvicorn->ray[serve]) (3.5.0)\n",
      "Requirement already satisfied: h11>=0.8 in c:\\users\\santi\\anaconda3\\lib\\site-packages (from uvicorn->ray[serve]) (0.13.0)\n",
      "Note: you may need to restart the kernel to use updated packages.\n"
     ]
    }
   ],
   "source": [
    "pip install \"ray[serve]\""
   ]
  },
  {
   "cell_type": "code",
   "execution_count": 2,
   "id": "fdcec21c",
   "metadata": {},
   "outputs": [],
   "source": [
    "import requests\n",
    "import ray\n",
    "from ray import serve"
   ]
  },
  {
   "cell_type": "code",
   "execution_count": 3,
   "id": "9ba07f93",
   "metadata": {},
   "outputs": [
    {
     "name": "stderr",
     "output_type": "stream",
     "text": [
      "2022-04-20 21:35:34,212\tINFO services.py:1338 -- View the Ray dashboard at \u001b[1m\u001b[32mhttp://127.0.0.1:8266\u001b[39m\u001b[22m\n"
     ]
    },
    {
     "data": {
      "text/plain": [
       "{'node_ip_address': '127.0.0.1',\n",
       " 'raylet_ip_address': '127.0.0.1',\n",
       " 'redis_address': '127.0.0.1:57491',\n",
       " 'object_store_address': 'tcp://127.0.0.1:57790',\n",
       " 'raylet_socket_name': 'tcp://127.0.0.1:58847',\n",
       " 'webui_url': '127.0.0.1:8266',\n",
       " 'session_dir': 'C:\\\\Users\\\\santi\\\\AppData\\\\Local\\\\Temp\\\\ray\\\\session_2022-04-20_21-35-26_638197_7256',\n",
       " 'metrics_export_port': 58500,\n",
       " 'node_id': '3a369881de971b0f088adf1de3b886e585516d207bc1bfdeac6a8879'}"
      ]
     },
     "execution_count": 3,
     "metadata": {},
     "output_type": "execute_result"
    }
   ],
   "source": [
    "ray.init()"
   ]
  },
  {
   "cell_type": "code",
   "execution_count": 4,
   "id": "7f5bf64d",
   "metadata": {},
   "outputs": [
    {
     "name": "stderr",
     "output_type": "stream",
     "text": [
      " pid=18388)\u001b[0m 2022-04-20 21:35:44,211\tINFO checkpoint_path.py:16 -- Using RayInternalKVStore for controller checkpoint and recovery.\n",
      " pid=18388)\u001b[0m 2022-04-20 21:35:44,224\tINFO http_state.py:98 -- Starting HTTP proxy with name 'SERVE_CONTROLLER_ACTOR:TcXdFZ:SERVE_PROXY_ACTOR-node:127.0.0.1-0' on node 'node:127.0.0.1-0' listening on '127.0.0.1:8000'\n",
      " pid=10492)\u001b[0m INFO:     Started server process [10492]\n",
      "2022-04-20 21:35:44,678\tINFO api.py:463 -- Started Serve instance in namespace '285dc8d0-2d3e-40ea-a279-c90b62a8f261'.\n"
     ]
    },
    {
     "data": {
      "text/plain": [
       "<ray.serve.api.Client at 0x220ec705fd0>"
      ]
     },
     "execution_count": 4,
     "metadata": {},
     "output_type": "execute_result"
    }
   ],
   "source": [
    "serve.start()"
   ]
  },
  {
   "cell_type": "code",
   "execution_count": 5,
   "id": "a98545fa",
   "metadata": {},
   "outputs": [],
   "source": [
    "def fac(n):\n",
    "    res = 1\n",
    "    for i in range (1,n+1):\n",
    "        res*= i\n",
    "        return res"
   ]
  },
  {
   "cell_type": "code",
   "execution_count": 6,
   "id": "81bb02a5",
   "metadata": {},
   "outputs": [],
   "source": [
    "def fib(n):\n",
    "    if n<= 1:\n",
    "        return n\n",
    "    else: \n",
    "        return fib(n-1)+ fib(n-2)\n"
   ]
  },
  {
   "cell_type": "code",
   "execution_count": 7,
   "id": "606e7193",
   "metadata": {},
   "outputs": [
    {
     "data": {
      "text/plain": [
       "7"
      ]
     },
     "execution_count": 7,
     "metadata": {},
     "output_type": "execute_result"
    }
   ],
   "source": [
    "eval('2+4+fac(5)' )"
   ]
  },
  {
   "cell_type": "code",
   "execution_count": 8,
   "id": "5047f148",
   "metadata": {},
   "outputs": [],
   "source": [
    "from starlette.requests import Request\n",
    "from starlette.responses import Response"
   ]
  },
  {
   "cell_type": "code",
   "execution_count": 16,
   "id": "e9060a63",
   "metadata": {},
   "outputs": [],
   "source": [
    "@serve.deployment\n",
    "class Counter:\n",
    "  def evaluar(request):\n",
    "    operacion = request\n",
    "    return eval(op)"
   ]
  },
  {
   "cell_type": "code",
   "execution_count": 12,
   "id": "49c38891",
   "metadata": {},
   "outputs": [
    {
     "name": "stderr",
     "output_type": "stream",
     "text": [
      "2022-04-20 21:37:37,634\tINFO api.py:242 -- Updating deployment 'Counter'. component=serve deployment=Counter\n",
      " pid=18388)\u001b[0m 2022-04-20 21:37:37,705\tINFO deployment_state.py:874 -- Stopping 1 replicas of deployment 'Counter' with outdated versions. component=serve deployment=Counter\n",
      " pid=18388)\u001b[0m 2022-04-20 21:37:39,894\tINFO deployment_state.py:912 -- Adding 1 replicas to deployment 'Counter'. component=serve deployment=Counter\n",
      " pid=18388)\u001b[0m 2022-04-20 21:37:40,450\tINFO deployment_state.py:912 -- Adding 1 replicas to deployment 'Counter'. component=serve deployment=Counter\n",
      " pid=18388)\u001b[0m 2022-04-20 21:37:40,994\tINFO deployment_state.py:912 -- Adding 1 replicas to deployment 'Counter'. component=serve deployment=Counter\n"
     ]
    },
    {
     "ename": "RuntimeError",
     "evalue": "Deployment 'Counter' failed, rolling back to version None asynchronously.",
     "output_type": "error",
     "traceback": [
      "\u001b[1;31m---------------------------------------------------------------------------\u001b[0m",
      "\u001b[1;31mRuntimeError\u001b[0m                              Traceback (most recent call last)",
      "\u001b[1;32m~\\AppData\\Local\\Temp/ipykernel_7256/3946875804.py\u001b[0m in \u001b[0;36m<module>\u001b[1;34m\u001b[0m\n\u001b[1;32m----> 1\u001b[1;33m \u001b[0mCounter\u001b[0m\u001b[1;33m.\u001b[0m\u001b[0mdeploy\u001b[0m\u001b[1;33m(\u001b[0m\u001b[1;33m)\u001b[0m\u001b[1;33m\u001b[0m\u001b[1;33m\u001b[0m\u001b[0m\n\u001b[0m",
      "\u001b[1;32m~\\anaconda3\\lib\\site-packages\\ray\\serve\\api.py\u001b[0m in \u001b[0;36mdeploy\u001b[1;34m(self, _blocking, *init_args, **init_kwargs)\u001b[0m\n\u001b[0;32m    787\u001b[0m             \u001b[0minit_kwargs\u001b[0m \u001b[1;33m=\u001b[0m \u001b[0mself\u001b[0m\u001b[1;33m.\u001b[0m\u001b[0m_init_kwargs\u001b[0m\u001b[1;33m\u001b[0m\u001b[1;33m\u001b[0m\u001b[0m\n\u001b[0;32m    788\u001b[0m \u001b[1;33m\u001b[0m\u001b[0m\n\u001b[1;32m--> 789\u001b[1;33m         return _get_global_client().deploy(\n\u001b[0m\u001b[0;32m    790\u001b[0m             \u001b[0mself\u001b[0m\u001b[1;33m.\u001b[0m\u001b[0m_name\u001b[0m\u001b[1;33m,\u001b[0m\u001b[1;33m\u001b[0m\u001b[1;33m\u001b[0m\u001b[0m\n\u001b[0;32m    791\u001b[0m             \u001b[0mself\u001b[0m\u001b[1;33m.\u001b[0m\u001b[0m_func_or_class\u001b[0m\u001b[1;33m,\u001b[0m\u001b[1;33m\u001b[0m\u001b[1;33m\u001b[0m\u001b[0m\n",
      "\u001b[1;32m~\\anaconda3\\lib\\site-packages\\ray\\serve\\api.py\u001b[0m in \u001b[0;36mcheck\u001b[1;34m(self, *args, **kwargs)\u001b[0m\n\u001b[0;32m     91\u001b[0m         \u001b[1;32mif\u001b[0m \u001b[0mself\u001b[0m\u001b[1;33m.\u001b[0m\u001b[0m_shutdown\u001b[0m\u001b[1;33m:\u001b[0m\u001b[1;33m\u001b[0m\u001b[1;33m\u001b[0m\u001b[0m\n\u001b[0;32m     92\u001b[0m             \u001b[1;32mraise\u001b[0m \u001b[0mRayServeException\u001b[0m\u001b[1;33m(\u001b[0m\u001b[1;34m\"Client has already been shut down.\"\u001b[0m\u001b[1;33m)\u001b[0m\u001b[1;33m\u001b[0m\u001b[1;33m\u001b[0m\u001b[0m\n\u001b[1;32m---> 93\u001b[1;33m         \u001b[1;32mreturn\u001b[0m \u001b[0mf\u001b[0m\u001b[1;33m(\u001b[0m\u001b[0mself\u001b[0m\u001b[1;33m,\u001b[0m \u001b[1;33m*\u001b[0m\u001b[0margs\u001b[0m\u001b[1;33m,\u001b[0m \u001b[1;33m**\u001b[0m\u001b[0mkwargs\u001b[0m\u001b[1;33m)\u001b[0m\u001b[1;33m\u001b[0m\u001b[1;33m\u001b[0m\u001b[0m\n\u001b[0m\u001b[0;32m     94\u001b[0m \u001b[1;33m\u001b[0m\u001b[0m\n\u001b[0;32m     95\u001b[0m     \u001b[1;32mreturn\u001b[0m \u001b[0mcheck\u001b[0m\u001b[1;33m\u001b[0m\u001b[1;33m\u001b[0m\u001b[0m\n",
      "\u001b[1;32m~\\anaconda3\\lib\\site-packages\\ray\\serve\\api.py\u001b[0m in \u001b[0;36mdeploy\u001b[1;34m(self, name, deployment_def, init_args, init_kwargs, ray_actor_options, config, version, prev_version, route_prefix, url, _blocking)\u001b[0m\n\u001b[0;32m    246\u001b[0m \u001b[1;33m\u001b[0m\u001b[0m\n\u001b[0;32m    247\u001b[0m         \u001b[1;32mif\u001b[0m \u001b[0m_blocking\u001b[0m\u001b[1;33m:\u001b[0m\u001b[1;33m\u001b[0m\u001b[1;33m\u001b[0m\u001b[0m\n\u001b[1;32m--> 248\u001b[1;33m             \u001b[0mself\u001b[0m\u001b[1;33m.\u001b[0m\u001b[0m_wait_for_goal\u001b[0m\u001b[1;33m(\u001b[0m\u001b[0mgoal_id\u001b[0m\u001b[1;33m)\u001b[0m\u001b[1;33m\u001b[0m\u001b[1;33m\u001b[0m\u001b[0m\n\u001b[0m\u001b[0;32m    249\u001b[0m             logger.info(\n\u001b[0;32m    250\u001b[0m                 \u001b[1;34mf\"Deployment '{name}{':'+version if version else ''}' is ready\"\u001b[0m\u001b[1;33m\u001b[0m\u001b[1;33m\u001b[0m\u001b[0m\n",
      "\u001b[1;32m~\\anaconda3\\lib\\site-packages\\ray\\serve\\api.py\u001b[0m in \u001b[0;36m_wait_for_goal\u001b[1;34m(self, goal_id, timeout)\u001b[0m\n\u001b[0;32m    182\u001b[0m             \u001b[0masync_goal_exception\u001b[0m \u001b[1;33m=\u001b[0m \u001b[0mray\u001b[0m\u001b[1;33m.\u001b[0m\u001b[0mget\u001b[0m\u001b[1;33m(\u001b[0m\u001b[0mready\u001b[0m\u001b[1;33m)\u001b[0m\u001b[1;33m[\u001b[0m\u001b[1;36m0\u001b[0m\u001b[1;33m]\u001b[0m\u001b[1;33m\u001b[0m\u001b[1;33m\u001b[0m\u001b[0m\n\u001b[0;32m    183\u001b[0m             \u001b[1;32mif\u001b[0m \u001b[0masync_goal_exception\u001b[0m \u001b[1;32mis\u001b[0m \u001b[1;32mnot\u001b[0m \u001b[1;32mNone\u001b[0m\u001b[1;33m:\u001b[0m\u001b[1;33m\u001b[0m\u001b[1;33m\u001b[0m\u001b[0m\n\u001b[1;32m--> 184\u001b[1;33m                 \u001b[1;32mraise\u001b[0m \u001b[0masync_goal_exception\u001b[0m\u001b[1;33m\u001b[0m\u001b[1;33m\u001b[0m\u001b[0m\n\u001b[0m\u001b[0;32m    185\u001b[0m             \u001b[1;32mreturn\u001b[0m \u001b[1;32mTrue\u001b[0m\u001b[1;33m\u001b[0m\u001b[1;33m\u001b[0m\u001b[0m\n\u001b[0;32m    186\u001b[0m         \u001b[1;32melse\u001b[0m\u001b[1;33m:\u001b[0m\u001b[1;33m\u001b[0m\u001b[1;33m\u001b[0m\u001b[0m\n",
      "\u001b[1;31mRuntimeError\u001b[0m: Deployment 'Counter' failed, rolling back to version None asynchronously."
     ]
    },
    {
     "name": "stderr",
     "output_type": "stream",
     "text": [
      "\u001b[2m\u001b[36m(ServeController\r",
      " pid=18388)\u001b[0m 2022-04-20 21:37:41,651\tINFO deployment_state.py:912 -- Adding 1 replicas to deployment 'Counter'. component=serve deployment=Counter\r\n"
     ]
    }
   ],
   "source": [
    "Counter.deploy()"
   ]
  },
  {
   "cell_type": "code",
   "execution_count": 38,
   "id": "f7ea4c44",
   "metadata": {},
   "outputs": [],
   "source": [
    "@serve.deployment\n",
    "def evaluar(entrada):\n",
    "    r = requests.get(entrada.url.path)\n",
    "    return r"
   ]
  },
  {
   "cell_type": "code",
   "execution_count": 40,
   "id": "eb3b5641",
   "metadata": {},
   "outputs": [
    {
     "name": "stderr",
     "output_type": "stream",
     "text": [
      "2022-04-20 22:48:32,587\tINFO api.py:242 -- Updating deployment 'evaluar'. component=serve deployment=evaluar\n",
      " pid=18388)\u001b[0m 2022-04-20 22:48:32,626\tINFO deployment_state.py:912 -- Adding 1 replicas to deployment 'evaluar'. component=serve deployment=evaluar\n",
      "2022-04-20 22:48:33,079\tINFO api.py:249 -- Deployment 'evaluar' is ready at `http://127.0.0.1:8000/evaluar`. component=serve deployment=evaluar\n"
     ]
    }
   ],
   "source": [
    "evaluar.deploy()"
   ]
  },
  {
   "cell_type": "code",
   "execution_count": 34,
   "id": "0f154785",
   "metadata": {},
   "outputs": [
    {
     "name": "stdout",
     "output_type": "stream",
     "text": [
      "https://github.com/timeline.json\n"
     ]
    }
   ],
   "source": [
    "print (r.url)"
   ]
  },
  {
   "cell_type": "code",
   "execution_count": null,
   "id": "36f1a719",
   "metadata": {},
   "outputs": [],
   "source": []
  }
 ],
 "metadata": {
  "kernelspec": {
   "display_name": "Python 3 (ipykernel)",
   "language": "python",
   "name": "python3"
  },
  "language_info": {
   "codemirror_mode": {
    "name": "ipython",
    "version": 3
   },
   "file_extension": ".py",
   "mimetype": "text/x-python",
   "name": "python",
   "nbconvert_exporter": "python",
   "pygments_lexer": "ipython3",
   "version": "3.9.7"
  }
 },
 "nbformat": 4,
 "nbformat_minor": 5
}
