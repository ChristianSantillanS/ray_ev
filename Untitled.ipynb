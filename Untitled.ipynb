{
 "cells": [
  {
   "cell_type": "code",
   "execution_count": 3,
   "id": "6d3581f7",
   "metadata": {},
   "outputs": [
    {
     "name": "stdout",
     "output_type": "stream",
     "text": [
      "Requirement already satisfied: ray[serve] in c:\\users\\santi\\anaconda3\\lib\\site-packages (1.9.0)\n",
      "Requirement already satisfied: filelock in c:\\users\\santi\\anaconda3\\lib\\site-packages (from ray[serve]) (3.3.1)\n",
      "Requirement already satisfied: protobuf>=3.15.3 in c:\\users\\santi\\anaconda3\\lib\\site-packages (from ray[serve]) (3.19.4)\n",
      "Requirement already satisfied: grpcio>=1.28.1 in c:\\users\\santi\\anaconda3\\lib\\site-packages (from ray[serve]) (1.43.0)\n",
      "Requirement already satisfied: msgpack<2.0.0,>=1.0.0 in c:\\users\\santi\\anaconda3\\lib\\site-packages (from ray[serve]) (1.0.2)\n",
      "Requirement already satisfied: jsonschema in c:\\users\\santi\\anaconda3\\lib\\site-packages (from ray[serve]) (3.2.0)\n",
      "Requirement already satisfied: click>=7.0 in c:\\users\\santi\\anaconda3\\lib\\site-packages (from ray[serve]) (8.0.3)\n",
      "Requirement already satisfied: redis>=3.5.0 in c:\\users\\santi\\anaconda3\\lib\\site-packages (from ray[serve]) (4.1.4)\n",
      "Requirement already satisfied: numpy>=1.19.3 in c:\\users\\santi\\anaconda3\\lib\\site-packages (from ray[serve]) (1.20.3)\n",
      "Requirement already satisfied: pyyaml in c:\\users\\santi\\anaconda3\\lib\\site-packages (from ray[serve]) (6.0)\n",
      "Requirement already satisfied: attrs in c:\\users\\santi\\anaconda3\\lib\\site-packages (from ray[serve]) (21.2.0)\n",
      "Requirement already satisfied: starlette in c:\\users\\santi\\anaconda3\\lib\\site-packages (from ray[serve]) (0.17.1)\n",
      "Requirement already satisfied: prometheus-client>=0.7.1 in c:\\users\\santi\\anaconda3\\lib\\site-packages (from ray[serve]) (0.11.0)\n",
      "Requirement already satisfied: colorful in c:\\users\\santi\\anaconda3\\lib\\site-packages (from ray[serve]) (0.5.4)\n",
      "Requirement already satisfied: frozenlist in c:\\users\\santi\\anaconda3\\lib\\site-packages (from ray[serve]) (1.3.0)\n",
      "Requirement already satisfied: smart-open in c:\\users\\santi\\anaconda3\\lib\\site-packages (from ray[serve]) (5.2.1)\n",
      "Requirement already satisfied: aiohttp>=3.7 in c:\\users\\santi\\anaconda3\\lib\\site-packages (from ray[serve]) (3.8.1)\n",
      "Requirement already satisfied: fastapi in c:\\users\\santi\\anaconda3\\lib\\site-packages (from ray[serve]) (0.74.1)\n",
      "Requirement already satisfied: uvicorn in c:\\users\\santi\\anaconda3\\lib\\site-packages (from ray[serve]) (0.17.5)\n",
      "Requirement already satisfied: requests in c:\\users\\santi\\anaconda3\\lib\\site-packages (from ray[serve]) (2.26.0)\n",
      "Requirement already satisfied: aioredis<2 in c:\\users\\santi\\anaconda3\\lib\\site-packages (from ray[serve]) (1.3.1)\n",
      "Requirement already satisfied: py-spy>=0.2.0 in c:\\users\\santi\\anaconda3\\lib\\site-packages (from ray[serve]) (0.3.11)\n",
      "Requirement already satisfied: aiohttp-cors in c:\\users\\santi\\anaconda3\\lib\\site-packages (from ray[serve]) (0.7.0)\n",
      "Requirement already satisfied: gpustat>=1.0.0b1 in c:\\users\\santi\\anaconda3\\lib\\site-packages (from ray[serve]) (1.0.0b1)\n",
      "Requirement already satisfied: opencensus in c:\\users\\santi\\anaconda3\\lib\\site-packages (from ray[serve]) (0.8.0)\n",
      "Requirement already satisfied: aiosignal in c:\\users\\santi\\anaconda3\\lib\\site-packages (from ray[serve]) (1.2.0)\n",
      "Requirement already satisfied: async-timeout<5.0,>=4.0.0a3 in c:\\users\\santi\\anaconda3\\lib\\site-packages (from aiohttp>=3.7->ray[serve]) (4.0.2)\n",
      "Requirement already satisfied: yarl<2.0,>=1.0 in c:\\users\\santi\\anaconda3\\lib\\site-packages (from aiohttp>=3.7->ray[serve]) (1.7.2)\n",
      "Requirement already satisfied: multidict<7.0,>=4.5 in c:\\users\\santi\\anaconda3\\lib\\site-packages (from aiohttp>=3.7->ray[serve]) (6.0.2)\n",
      "Requirement already satisfied: charset-normalizer<3.0,>=2.0 in c:\\users\\santi\\anaconda3\\lib\\site-packages (from aiohttp>=3.7->ray[serve]) (2.0.4)\n",
      "Requirement already satisfied: hiredis in c:\\users\\santi\\anaconda3\\lib\\site-packages (from aioredis<2->ray[serve]) (2.0.0)\n",
      "Requirement already satisfied: colorama in c:\\users\\santi\\anaconda3\\lib\\site-packages (from click>=7.0->ray[serve]) (0.4.4)\n",
      "Requirement already satisfied: six>=1.7 in c:\\users\\santi\\anaconda3\\lib\\site-packages (from gpustat>=1.0.0b1->ray[serve]) (1.16.0)\n",
      "Requirement already satisfied: psutil in c:\\users\\santi\\anaconda3\\lib\\site-packages (from gpustat>=1.0.0b1->ray[serve]) (5.8.0)\n",
      "Requirement already satisfied: blessed>=1.17.1 in c:\\users\\santi\\anaconda3\\lib\\site-packages (from gpustat>=1.0.0b1->ray[serve]) (1.19.1)\n",
      "Requirement already satisfied: nvidia-ml-py3>=7.352.0 in c:\\users\\santi\\anaconda3\\lib\\site-packages (from gpustat>=1.0.0b1->ray[serve]) (7.352.0)\n",
      "Requirement already satisfied: wcwidth>=0.1.4 in c:\\users\\santi\\anaconda3\\lib\\site-packages (from blessed>=1.17.1->gpustat>=1.0.0b1->ray[serve]) (0.2.5)\n",
      "Requirement already satisfied: jinxed>=1.1.0 in c:\\users\\santi\\anaconda3\\lib\\site-packages (from blessed>=1.17.1->gpustat>=1.0.0b1->ray[serve]) (1.1.0)\n",
      "Requirement already satisfied: ansicon in c:\\users\\santi\\anaconda3\\lib\\site-packages (from jinxed>=1.1.0->blessed>=1.17.1->gpustat>=1.0.0b1->ray[serve]) (1.89.0)\n",
      "Requirement already satisfied: deprecated>=1.2.3 in c:\\users\\santi\\anaconda3\\lib\\site-packages (from redis>=3.5.0->ray[serve]) (1.2.13)\n",
      "Requirement already satisfied: packaging>=20.4 in c:\\users\\santi\\anaconda3\\lib\\site-packages (from redis>=3.5.0->ray[serve]) (21.0)\n",
      "Requirement already satisfied: wrapt<2,>=1.10 in c:\\users\\santi\\anaconda3\\lib\\site-packages (from deprecated>=1.2.3->redis>=3.5.0->ray[serve]) (1.12.1)\n",
      "Requirement already satisfied: pyparsing>=2.0.2 in c:\\users\\santi\\anaconda3\\lib\\site-packages (from packaging>=20.4->redis>=3.5.0->ray[serve]) (3.0.4)\n",
      "Requirement already satisfied: idna>=2.0 in c:\\users\\santi\\anaconda3\\lib\\site-packages (from yarl<2.0,>=1.0->aiohttp>=3.7->ray[serve]) (3.2)\n",
      "Requirement already satisfied: pydantic!=1.7,!=1.7.1,!=1.7.2,!=1.7.3,!=1.8,!=1.8.1,<2.0.0,>=1.6.2 in c:\\users\\santi\\anaconda3\\lib\\site-packages (from fastapi->ray[serve]) (1.9.0)\n",
      "Requirement already satisfied: anyio<4,>=3.0.0 in c:\\users\\santi\\anaconda3\\lib\\site-packages (from starlette->ray[serve]) (3.5.0)\n",
      "Requirement already satisfied: sniffio>=1.1 in c:\\users\\santi\\anaconda3\\lib\\site-packages (from anyio<4,>=3.0.0->starlette->ray[serve]) (1.2.0)\n",
      "Requirement already satisfied: typing-extensions>=3.7.4.3 in c:\\users\\santi\\anaconda3\\lib\\site-packages (from pydantic!=1.7,!=1.7.1,!=1.7.2,!=1.7.3,!=1.8,!=1.8.1,<2.0.0,>=1.6.2->fastapi->ray[serve]) (3.10.0.2)\n",
      "Requirement already satisfied: pyrsistent>=0.14.0 in c:\\users\\santi\\anaconda3\\lib\\site-packages (from jsonschema->ray[serve]) (0.18.0)\n",
      "Requirement already satisfied: setuptools in c:\\users\\santi\\anaconda3\\lib\\site-packages (from jsonschema->ray[serve]) (58.0.4)\n",
      "Requirement already satisfied: opencensus-context==0.1.2 in c:\\users\\santi\\anaconda3\\lib\\site-packages (from opencensus->ray[serve]) (0.1.2)\n",
      "Requirement already satisfied: google-api-core<3.0.0,>=1.0.0 in c:\\users\\santi\\anaconda3\\lib\\site-packages (from opencensus->ray[serve]) (2.5.0)\n",
      "Requirement already satisfied: google-auth<3.0dev,>=1.25.0 in c:\\users\\santi\\anaconda3\\lib\\site-packages (from google-api-core<3.0.0,>=1.0.0->opencensus->ray[serve]) (2.6.0)\n",
      "Requirement already satisfied: googleapis-common-protos<2.0dev,>=1.52.0 in c:\\users\\santi\\anaconda3\\lib\\site-packages (from google-api-core<3.0.0,>=1.0.0->opencensus->ray[serve]) (1.55.0)\n",
      "Requirement already satisfied: cachetools<6.0,>=2.0.0 in c:\\users\\santi\\anaconda3\\lib\\site-packages (from google-auth<3.0dev,>=1.25.0->google-api-core<3.0.0,>=1.0.0->opencensus->ray[serve]) (5.0.0)\n",
      "Requirement already satisfied: rsa<5,>=3.1.4 in c:\\users\\santi\\anaconda3\\lib\\site-packages (from google-auth<3.0dev,>=1.25.0->google-api-core<3.0.0,>=1.0.0->opencensus->ray[serve]) (4.8)\n",
      "Requirement already satisfied: pyasn1-modules>=0.2.1 in c:\\users\\santi\\anaconda3\\lib\\site-packages (from google-auth<3.0dev,>=1.25.0->google-api-core<3.0.0,>=1.0.0->opencensus->ray[serve]) (0.2.8)\n",
      "Requirement already satisfied: pyasn1<0.5.0,>=0.4.6 in c:\\users\\santi\\anaconda3\\lib\\site-packages (from pyasn1-modules>=0.2.1->google-auth<3.0dev,>=1.25.0->google-api-core<3.0.0,>=1.0.0->opencensus->ray[serve]) (0.4.8)\n",
      "Requirement already satisfied: certifi>=2017.4.17 in c:\\users\\santi\\anaconda3\\lib\\site-packages (from requests->ray[serve]) (2021.10.8)\n",
      "Requirement already satisfied: urllib3<1.27,>=1.21.1 in c:\\users\\santi\\anaconda3\\lib\\site-packages (from requests->ray[serve]) (1.26.7)\n",
      "Requirement already satisfied: asgiref>=3.4.0 in c:\\users\\santi\\anaconda3\\lib\\site-packages (from uvicorn->ray[serve]) (3.5.0)\n",
      "Requirement already satisfied: h11>=0.8 in c:\\users\\santi\\anaconda3\\lib\\site-packages (from uvicorn->ray[serve]) (0.13.0)\n",
      "Note: you may need to restart the kernel to use updated packages.\n"
     ]
    }
   ],
   "source": [
    "pip install \"ray[serve]\""
   ]
  },
  {
   "cell_type": "code",
   "execution_count": 4,
   "id": "60b73fa0",
   "metadata": {},
   "outputs": [],
   "source": [
    "import ray\n",
    "from ray import serve"
   ]
  },
  {
   "cell_type": "code",
   "execution_count": 5,
   "id": "2db8f956",
   "metadata": {},
   "outputs": [
    {
     "name": "stderr",
     "output_type": "stream",
     "text": [
      "2022-04-20 21:02:20,146\tINFO services.py:1338 -- View the Ray dashboard at \u001b[1m\u001b[32mhttp://127.0.0.1:8265\u001b[39m\u001b[22m\n"
     ]
    },
    {
     "data": {
      "text/plain": [
       "{'node_ip_address': '127.0.0.1',\n",
       " 'raylet_ip_address': '127.0.0.1',\n",
       " 'redis_address': '127.0.0.1:6379',\n",
       " 'object_store_address': 'tcp://127.0.0.1:65049',\n",
       " 'raylet_socket_name': 'tcp://127.0.0.1:57390',\n",
       " 'webui_url': '127.0.0.1:8265',\n",
       " 'session_dir': 'C:\\\\Users\\\\santi\\\\AppData\\\\Local\\\\Temp\\\\ray\\\\session_2022-04-20_21-02-12_399048_18336',\n",
       " 'metrics_export_port': 62987,\n",
       " 'node_id': 'b802437b38420f9087a5763fcce5154ec269b69219a42a89fc2bb182'}"
      ]
     },
     "execution_count": 5,
     "metadata": {},
     "output_type": "execute_result"
    }
   ],
   "source": [
    "ray.init()"
   ]
  },
  {
   "cell_type": "code",
   "execution_count": 6,
   "id": "63e8a567",
   "metadata": {},
   "outputs": [
    {
     "name": "stderr",
     "output_type": "stream",
     "text": [
      " pid=17564)\u001b[0m 2022-04-20 21:02:30,381\tINFO checkpoint_path.py:16 -- Using RayInternalKVStore for controller checkpoint and recovery.\n",
      " pid=17564)\u001b[0m 2022-04-20 21:02:30,385\tINFO http_state.py:98 -- Starting HTTP proxy with name 'SERVE_CONTROLLER_ACTOR:xABkdG:SERVE_PROXY_ACTOR-node:127.0.0.1-0' on node 'node:127.0.0.1-0' listening on '127.0.0.1:8000'\n",
      "2022-04-20 21:02:30,776\tINFO api.py:463 -- Started Serve instance in namespace '00178043-59d6-49a6-a9e1-7c2460aee319'.\n"
     ]
    },
    {
     "data": {
      "text/plain": [
       "<ray.serve.api.Client at 0x2a46956cd30>"
      ]
     },
     "execution_count": 6,
     "metadata": {},
     "output_type": "execute_result"
    },
    {
     "name": "stderr",
     "output_type": "stream",
     "text": [
      "\u001b[2m\u001b[36m(HTTPProxyActor\r",
      " pid=12888)\u001b[0m INFO:     Started server process [12888]\r\n"
     ]
    }
   ],
   "source": [
    "serve.start()"
   ]
  },
  {
   "cell_type": "code",
   "execution_count": 5,
   "id": "ed6a68c1",
   "metadata": {},
   "outputs": [],
   "source": [
    "@serve.deployment\n",
    "class Counter:\n",
    "  def __init__(self):\n",
    "      self.count = 0\n",
    "\n",
    "  def __call__(self, request):\n",
    "      self.count += 1\n",
    "      return {\"count\": self.count}"
   ]
  },
  {
   "cell_type": "code",
   "execution_count": 6,
   "id": "42da0678",
   "metadata": {},
   "outputs": [
    {
     "name": "stderr",
     "output_type": "stream",
     "text": [
      "2022-04-20 18:06:46,493\tINFO api.py:242 -- Updating deployment 'Counter'. component=serve deployment=Counter\n",
      " pid=3496)\u001b[0m 2022-04-20 18:06:46,563\tINFO deployment_state.py:912 -- Adding 1 replicas to deployment 'Counter'. component=serve deployment=Counter\n",
      "2022-04-20 18:06:47,014\tINFO api.py:249 -- Deployment 'Counter' is ready at `http://127.0.0.1:8000/Counter`. component=serve deployment=Counter\n"
     ]
    }
   ],
   "source": [
    "Counter.deploy()"
   ]
  },
  {
   "cell_type": "code",
   "execution_count": 19,
   "id": "cd682c0a",
   "metadata": {},
   "outputs": [],
   "source": [
    "@serve.deployment\n",
    "class evaluacion:\n",
    "    def evaluar(entrada):\n",
    "        print(entrada.url.path)\n",
    "        op = entrada.url.path.split(\"/\")[-1]\n",
    "        return eval(op)\n",
    "    def fact(n):\n",
    "        res = 1\n",
    "        for i in range(1,n+1):\n",
    "            res*= i\n",
    "            return res\n",
    "    def fib(n):\n",
    "        if n<= 1:\n",
    "            return n\n",
    "        else:\n",
    "            return fib(n-1)+fib(n-2)    "
   ]
  },
  {
   "cell_type": "code",
   "execution_count": 27,
   "id": "7fb25198",
   "metadata": {},
   "outputs": [
    {
     "name": "stderr",
     "output_type": "stream",
     "text": [
      "2022-04-20 18:28:36,468\tINFO api.py:242 -- Updating deployment 'Evaluar'. component=serve deployment=Evaluar\n",
      " pid=3496)\u001b[0m 2022-04-20 18:28:36,530\tINFO deployment_state.py:874 -- Stopping 1 replicas of deployment 'Evaluar' with outdated versions. component=serve deployment=Evaluar\n",
      " pid=3496)\u001b[0m 2022-04-20 18:28:38,681\tINFO deployment_state.py:912 -- Adding 1 replicas to deployment 'Evaluar'. component=serve deployment=Evaluar\n",
      "2022-04-20 18:28:43,598\tINFO api.py:249 -- Deployment 'Evaluar' is ready at `http://127.0.0.1:8000/Evaluar`. component=serve deployment=Evaluar\n"
     ]
    }
   ],
   "source": [
    "Evaluar.deploy()"
   ]
  },
  {
   "cell_type": "code",
   "execution_count": 17,
   "id": "0926b556",
   "metadata": {},
   "outputs": [],
   "source": []
  },
  {
   "cell_type": "code",
   "execution_count": 22,
   "id": "2a8b3491",
   "metadata": {},
   "outputs": [
    {
     "name": "stderr",
     "output_type": "stream",
     "text": [
      "2022-04-20 18:26:14,676\tINFO api.py:242 -- Updating deployment 'Counter'. component=serve deployment=Counter\n",
      " pid=3496)\u001b[0m 2022-04-20 18:26:14,723\tINFO deployment_state.py:874 -- Stopping 1 replicas of deployment 'Counter' with outdated versions. component=serve deployment=Counter\n",
      " pid=3496)\u001b[0m 2022-04-20 18:26:16,913\tINFO deployment_state.py:912 -- Adding 1 replicas to deployment 'Counter'. component=serve deployment=Counter\n",
      "2022-04-20 18:26:17,365\tINFO api.py:249 -- Deployment 'Counter' is ready at `http://127.0.0.1:8000/Counter`. component=serve deployment=Counter\n"
     ]
    }
   ],
   "source": [
    "Counter.deploy()"
   ]
  },
  {
   "cell_type": "code",
   "execution_count": 17,
   "id": "3d127a37",
   "metadata": {},
   "outputs": [],
   "source": [
    "@serve.deployment\n",
    "class evaluacion: \n",
    "      def __call__(self):\n",
    "            url = driver.current_url\n",
    "            url_parts = urlparse.urlparse(url,  allow_fragments = False)\n",
    "            id = url_parts[2].rpartition('/')[2]\n",
    "            return id\n",
    "\n"
   ]
  },
  {
   "cell_type": "code",
   "execution_count": 18,
   "id": "e7b102e1",
   "metadata": {},
   "outputs": [
    {
     "name": "stderr",
     "output_type": "stream",
     "text": [
      "2022-04-20 21:07:03,995\tINFO api.py:242 -- Updating deployment 'evaluacion'. component=serve deployment=evaluacion\n",
      " pid=17564)\u001b[0m 2022-04-20 21:07:04,086\tINFO deployment_state.py:874 -- Stopping 1 replicas of deployment 'evaluacion' with outdated versions. component=serve deployment=evaluacion\n",
      " pid=17564)\u001b[0m 2022-04-20 21:07:06,271\tINFO deployment_state.py:912 -- Adding 1 replicas to deployment 'evaluacion'. component=serve deployment=evaluacion\n",
      "2022-04-20 21:07:06,614\tINFO api.py:249 -- Deployment 'evaluacion' is ready at `http://127.0.0.1:8000/evaluacion`. component=serve deployment=evaluacion\n",
      "\u001b[2m\u001b[36m(pid=None)\u001b[0m [2022-04-20 21:08:02,616 C 5576 8080] redis_client.cc:87:  Check failed: under_retry_limit Expected 1 Redis shard addresses, found 2\n",
      "\u001b[2m\u001b[36m(pid=None)\u001b[0m *** StackTrace Information ***\n",
      "\u001b[2m\u001b[36m(pid=None)\u001b[0m     recalloc\n",
      "\u001b[2m\u001b[36m(pid=None)\u001b[0m     BaseThreadInitThunk\n",
      "\u001b[2m\u001b[36m(pid=None)\u001b[0m     RtlUserThreadStart\n",
      "\u001b[2m\u001b[36m(pid=None)\u001b[0m \n",
      " pid=18008)\u001b[0m 2022-04-20 21:08:37,812\tINFO checkpoint_path.py:16 -- Using RayInternalKVStore for controller checkpoint and recovery.\n",
      " pid=18008)\u001b[0m 2022-04-20 21:08:37,816\tINFO http_state.py:98 -- Starting HTTP proxy with name 'SERVE_CONTROLLER_ACTOR:ITHsPt:SERVE_PROXY_ACTOR-node:127.0.0.1-0' on node 'node:127.0.0.1-0' listening on '127.0.0.1:8000'\n",
      " pid=19368)\u001b[0m INFO:     Started server process [19368]\n",
      " pid=18008)\u001b[0m 2022-04-20 21:13:38,391\tINFO deployment_state.py:912 -- Adding 1 replicas to deployment 'evaluar'. component=serve deployment=evaluar\n",
      " pid=18008)\u001b[0m 2022-04-20 21:14:19,289\tINFO deployment_state.py:874 -- Stopping 1 replicas of deployment 'evaluar' with outdated versions. component=serve deployment=evaluar\n",
      " pid=18008)\u001b[0m 2022-04-20 21:14:21,477\tINFO deployment_state.py:912 -- Adding 1 replicas to deployment 'evaluar'. component=serve deployment=evaluar\n",
      " pid=18008)\u001b[0m 2022-04-20 21:14:47,160\tINFO deployment_state.py:874 -- Stopping 1 replicas of deployment 'evaluar' with outdated versions. component=serve deployment=evaluar\n",
      " pid=18008)\u001b[0m 2022-04-20 21:14:49,344\tINFO deployment_state.py:912 -- Adding 1 replicas to deployment 'evaluar'. component=serve deployment=evaluar\n",
      " pid=18008)\u001b[0m 2022-04-20 21:16:24,744\tINFO deployment_state.py:874 -- Stopping 1 replicas of deployment 'evaluar' with outdated versions. component=serve deployment=evaluar\n",
      " pid=18008)\u001b[0m 2022-04-20 21:16:26,924\tINFO deployment_state.py:912 -- Adding 1 replicas to deployment 'evaluar'. component=serve deployment=evaluar\n",
      " pid=18008)\u001b[0m 2022-04-20 21:29:28,658\tINFO deployment_state.py:874 -- Stopping 1 replicas of deployment 'evaluar' with outdated versions. component=serve deployment=evaluar\n",
      " pid=18008)\u001b[0m 2022-04-20 21:29:30,858\tINFO deployment_state.py:912 -- Adding 1 replicas to deployment 'evaluar'. component=serve deployment=evaluar\n",
      " pid=18008)\u001b[0m 2022-04-20 21:30:58,202\tINFO deployment_state.py:874 -- Stopping 1 replicas of deployment 'evaluar' with outdated versions. component=serve deployment=evaluar\n",
      " pid=18008)\u001b[0m 2022-04-20 21:31:00,383\tINFO deployment_state.py:912 -- Adding 1 replicas to deployment 'evaluar'. component=serve deployment=evaluar\n"
     ]
    }
   ],
   "source": [
    "evaluacion.deploy()"
   ]
  },
  {
   "cell_type": "code",
   "execution_count": 1,
   "id": "7b2a5bd7",
   "metadata": {
    "scrolled": false
   },
   "outputs": [
    {
     "name": "stdout",
     "output_type": "stream",
     "text": [
      "Note: you may need to restart the kernel to use updated packages.\n"
     ]
    },
    {
     "name": "stderr",
     "output_type": "stream",
     "text": [
      "ERROR: Could not find a version that satisfies the requirement urlparse (from versions: none)\n",
      "ERROR: No matching distribution found for urlparse\n"
     ]
    }
   ],
   "source": []
  },
  {
   "cell_type": "code",
   "execution_count": null,
   "id": "2e669af6",
   "metadata": {},
   "outputs": [],
   "source": []
  }
 ],
 "metadata": {
  "kernelspec": {
   "display_name": "Python 3 (ipykernel)",
   "language": "python",
   "name": "python3"
  },
  "language_info": {
   "codemirror_mode": {
    "name": "ipython",
    "version": 3
   },
   "file_extension": ".py",
   "mimetype": "text/x-python",
   "name": "python",
   "nbconvert_exporter": "python",
   "pygments_lexer": "ipython3",
   "version": "3.9.7"
  }
 },
 "nbformat": 4,
 "nbformat_minor": 5
}
