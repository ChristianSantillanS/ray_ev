{
 "cells": [
  {
   "cell_type": "raw",
   "id": "20d474e5",
   "metadata": {
    "scrolled": true
   },
   "source": [
    "pip install \"ray[serve]\"\n"
   ]
  },
  {
   "cell_type": "code",
   "execution_count": null,
   "id": "fdcec21c",
   "metadata": {},
   "outputs": [],
   "source": [
    "import ray "
   ]
  },
  {
   "cell_type": "code",
   "execution_count": null,
   "id": "9ba07f93",
   "metadata": {},
   "outputs": [],
   "source": [
    "from ray import serve"
   ]
  },
  {
   "cell_type": "code",
   "execution_count": null,
   "id": "539e468e",
   "metadata": {},
   "outputs": [],
   "source": [
    "import requests\n",
    "from strgen import StringGenerator\n",
    "ray.init(num_cpus=1)"
   ]
  },
  {
   "cell_type": "code",
   "execution_count": null,
   "id": "7f5bf64d",
   "metadata": {},
   "outputs": [],
   "source": [
    "serve.start()"
   ]
  },
  {
   "cell_type": "code",
   "execution_count": null,
   "id": "a98545fa",
   "metadata": {},
   "outputs": [],
   "source": [
    "\n",
    "def fac(n):\n",
    "    res = 1\n",
    "    for i in range (1,n+1):\n",
    "        res*= i\n",
    "    return res"
   ]
  },
  {
   "cell_type": "code",
   "execution_count": null,
   "id": "81bb02a5",
   "metadata": {},
   "outputs": [],
   "source": [
    "\n",
    "def fib(n):\n",
    "    if n<= 1:\n",
    "        return n\n",
    "    else: \n",
    "        return fib(n-1)+ fib(n-2)\n"
   ]
  },
  {
   "cell_type": "code",
   "execution_count": null,
   "id": "606e7193",
   "metadata": {},
   "outputs": [],
   "source": [
    "eval('2+4+fac(5)' )"
   ]
  },
  {
   "cell_type": "code",
   "execution_count": null,
   "id": "5047f148",
   "metadata": {},
   "outputs": [],
   "source": [
    "from starlette.requests import Request\n",
    "from starlette.responses import Response"
   ]
  },
  {
   "cell_type": "code",
   "execution_count": null,
   "id": "e9060a63",
   "metadata": {},
   "outputs": [],
   "source": [
    "@serve.deployment(num_replicas=8)\n",
    "def evaluar(request):\n",
    "    def fib(n):\n",
    "        if n<= 1:\n",
    "            return n\n",
    "        else: \n",
    "            return fib(n-1)+ fib(n-2)\n",
    "    def fac(n):\n",
    "        res = 1\n",
    "        for i in range (1,n+1):\n",
    "            res*= i\n",
    "        return res\n",
    "    operacion = request.url.path.split(\"evaluar/\")[-1]\n",
    "    return eval(operacion)"
   ]
  },
  {
   "cell_type": "code",
   "execution_count": null,
   "id": "49c38891",
   "metadata": {},
   "outputs": [],
   "source": [
    "evaluar.deploy()"
   ]
  },
  {
   "cell_type": "code",
   "execution_count": null,
   "id": "f7ea4c44",
   "metadata": {},
   "outputs": [],
   "source": [
    "def evaluacion_remota(entrada):\n",
    "    r = requests.get('http://127.0.0.1:8000/evaluar/'+entrada)\n",
    "    return r.content"
   ]
  },
  {
   "cell_type": "code",
   "execution_count": null,
   "id": "eb3b5641",
   "metadata": {},
   "outputs": [],
   "source": [
    "evaluacion_remota('2+2*6')"
   ]
  },
  {
   "cell_type": "markdown",
   "id": "2fe4539a",
   "metadata": {},
   "source": [
    "Relizar operaciones matematicas aleatorias"
   ]
  },
  {
   "cell_type": "code",
   "execution_count": null,
   "id": "2f5ad779",
   "metadata": {},
   "outputs": [],
   "source": [
    "def generar_operacion(dificultad):\n",
    "    funcion=[0,0,0,0,0]\n",
    "    funcion[0]= StringGenerator('[ ] |(fac)|(fib)').render()\n",
    "    funcion[1]= StringGenerator('[1-9]{%s}' % dificultad).render()\n",
    "    funcion[2]= StringGenerator('[+-*/%]').render()\n",
    "    funcion[3]= StringGenerator('[ ]|(fac)|(fib)').render()\n",
    "    funcion[4]= StringGenerator('[1-9]{%s}' % dificultad).render()\n",
    "    operacions=funcion[0]+'('+funcion[1]+')'+funcion[2]+funcion[3]+'('+funcion[4]+')'\n",
    "    return operacions"
   ]
  },
  {
   "cell_type": "code",
   "execution_count": null,
   "id": "c5b06163",
   "metadata": {},
   "outputs": [],
   "source": [
    "generar_operacion(1)\n"
   ]
  },
  {
   "cell_type": "code",
   "execution_count": null,
   "id": "9636df81",
   "metadata": {},
   "outputs": [],
   "source": [
    "operacion=generar_operacion(1)\n",
    "resultado = evaluacion_remota(operacion)\n",
    "print(operacion,resultado)"
   ]
  },
  {
   "cell_type": "code",
   "execution_count": null,
   "id": "432f9164",
   "metadata": {},
   "outputs": [],
   "source": [
    "evaluacion_remota(generar_operacion(1))"
   ]
  },
  {
   "cell_type": "markdown",
   "id": "d5ad0df9",
   "metadata": {},
   "source": [
    "Apagar Ray en caso de saturarse\n"
   ]
  },
  {
   "cell_type": "code",
   "execution_count": null,
   "id": "40b8ab17",
   "metadata": {},
   "outputs": [],
   "source": [
    "ray.shutdown()"
   ]
  },
  {
   "cell_type": "raw",
   "id": "32a1b87e",
   "metadata": {},
   "source": []
  },
  {
   "cell_type": "raw",
   "id": "cadc6e23",
   "metadata": {},
   "source": []
  }
 ],
 "metadata": {
  "kernelspec": {
   "display_name": "Python 3 (ipykernel)",
   "language": "python",
   "name": "python3"
  },
  "language_info": {
   "codemirror_mode": {
    "name": "ipython",
    "version": 3
   },
   "file_extension": ".py",
   "mimetype": "text/x-python",
   "name": "python",
   "nbconvert_exporter": "python",
   "pygments_lexer": "ipython3",
   "version": "3.9.7"
  }
 },
 "nbformat": 4,
 "nbformat_minor": 5
}
