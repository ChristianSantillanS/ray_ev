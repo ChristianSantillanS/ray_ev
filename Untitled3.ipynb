{
 "cells": [
  {
   "cell_type": "code",
   "execution_count": 1,
   "id": "03dbf986",
   "metadata": {
    "scrolled": true
   },
   "outputs": [
    {
     "name": "stdout",
     "output_type": "stream",
     "text": [
      "Requirement already satisfied: ray[serve] in c:\\users\\santi\\anaconda3\\lib\\site-packages (1.9.0)Note: you may need to restart the kernel to use updated packages.\n",
      "Requirement already satisfied: msgpack<2.0.0,>=1.0.0 in c:\\users\\santi\\anaconda3\\lib\\site-packages (from ray[serve]) (1.0.2)\n",
      "Requirement already satisfied: jsonschema in c:\\users\\santi\\anaconda3\\lib\\site-packages (from ray[serve]) (3.2.0)\n",
      "Requirement already satisfied: click>=7.0 in c:\\users\\santi\\anaconda3\\lib\\site-packages (from ray[serve]) (8.0.3)\n",
      "Requirement already satisfied: pyyaml in c:\\users\\santi\\anaconda3\\lib\\site-packages (from ray[serve]) (6.0)\n",
      "Requirement already satisfied: attrs in c:\\users\\santi\\anaconda3\\lib\\site-packages (from ray[serve]) (21.2.0)\n",
      "Requirement already satisfied: numpy>=1.19.3 in c:\\users\\santi\\anaconda3\\lib\\site-packages (from ray[serve]) (1.20.3)\n",
      "Requirement already satisfied: grpcio>=1.28.1 in c:\\users\\santi\\anaconda3\\lib\\site-packages (from ray[serve]) (1.43.0)\n",
      "Requirement already satisfied: redis>=3.5.0 in c:\\users\\santi\\anaconda3\\lib\\site-packages (from ray[serve]) (4.1.4)\n",
      "Requirement already satisfied: protobuf>=3.15.3 in c:\\users\\santi\\anaconda3\\lib\\site-packages (from ray[serve]) (3.19.4)\n",
      "Requirement already satisfied: filelock in c:\\users\\santi\\anaconda3\\lib\\site-packages (from ray[serve]) (3.3.1)\n",
      "Requirement already satisfied: uvicorn in c:\\users\\santi\\anaconda3\\lib\\site-packages (from ray[serve]) (0.17.5)\n",
      "Requirement already satisfied: prometheus-client>=0.7.1 in c:\\users\\santi\\anaconda3\\lib\\site-packages (from ray[serve]) (0.11.0)\n",
      "Requirement already satisfied: aiosignal in c:\\users\\santi\\anaconda3\\lib\\site-packages (from ray[serve]) (1.2.0)\n",
      "Requirement already satisfied: fastapi in c:\\users\\santi\\anaconda3\\lib\\site-packages (from ray[serve]) (0.74.1)\n",
      "Requirement already satisfied: aiohttp>=3.7 in c:\\users\\santi\\anaconda3\\lib\\site-packages (from ray[serve]) (3.8.1)\n",
      "Requirement already satisfied: py-spy>=0.2.0 in c:\\users\\santi\\anaconda3\\lib\\site-packages (from ray[serve]) (0.3.11)\n",
      "Requirement already satisfied: aioredis<2 in c:\\users\\santi\\anaconda3\\lib\\site-packages (from ray[serve]) (1.3.1)\n",
      "Requirement already satisfied: colorful in c:\\users\\santi\\anaconda3\\lib\\site-packages (from ray[serve]) (0.5.4)\n",
      "Requirement already satisfied: frozenlist in c:\\users\\santi\\anaconda3\\lib\\site-packages (from ray[serve]) (1.3.0)\n",
      "Requirement already satisfied: starlette in c:\\users\\santi\\anaconda3\\lib\\site-packages (from ray[serve]) (0.17.1)\n",
      "Requirement already satisfied: aiohttp-cors in c:\\users\\santi\\anaconda3\\lib\\site-packages (from ray[serve]) (0.7.0)\n",
      "Requirement already satisfied: gpustat>=1.0.0b1 in c:\\users\\santi\\anaconda3\\lib\\site-packages (from ray[serve]) (1.0.0b1)\n",
      "Requirement already satisfied: requests in c:\\users\\santi\\anaconda3\\lib\\site-packages (from ray[serve]) (2.26.0)\n",
      "Requirement already satisfied: opencensus in c:\\users\\santi\\anaconda3\\lib\\site-packages (from ray[serve]) (0.8.0)\n",
      "Requirement already satisfied: smart-open in c:\\users\\santi\\anaconda3\\lib\\site-packages (from ray[serve]) (5.2.1)\n",
      "Requirement already satisfied: yarl<2.0,>=1.0 in c:\\users\\santi\\anaconda3\\lib\\site-packages (from aiohttp>=3.7->ray[serve]) (1.7.2)\n",
      "Requirement already satisfied: async-timeout<5.0,>=4.0.0a3 in c:\\users\\santi\\anaconda3\\lib\\site-packages (from aiohttp>=3.7->ray[serve]) (4.0.2)\n",
      "Requirement already satisfied: charset-normalizer<3.0,>=2.0 in c:\\users\\santi\\anaconda3\\lib\\site-packages (from aiohttp>=3.7->ray[serve]) (2.0.4)\n",
      "Requirement already satisfied: multidict<7.0,>=4.5 in c:\\users\\santi\\anaconda3\\lib\\site-packages (from aiohttp>=3.7->ray[serve]) (6.0.2)\n",
      "Requirement already satisfied: hiredis in c:\\users\\santi\\anaconda3\\lib\\site-packages (from aioredis<2->ray[serve]) (2.0.0)\n",
      "Requirement already satisfied: colorama in c:\\users\\santi\\anaconda3\\lib\\site-packages (from click>=7.0->ray[serve]) (0.4.4)\n",
      "Requirement already satisfied: nvidia-ml-py3>=7.352.0 in c:\\users\\santi\\anaconda3\\lib\\site-packages (from gpustat>=1.0.0b1->ray[serve]) (7.352.0)\n",
      "Requirement already satisfied: six>=1.7 in c:\\users\\santi\\anaconda3\\lib\\site-packages (from gpustat>=1.0.0b1->ray[serve]) (1.16.0)\n",
      "Requirement already satisfied: blessed>=1.17.1 in c:\\users\\santi\\anaconda3\\lib\\site-packages (from gpustat>=1.0.0b1->ray[serve]) (1.19.1)\n",
      "Requirement already satisfied: psutil in c:\\users\\santi\\anaconda3\\lib\\site-packages (from gpustat>=1.0.0b1->ray[serve]) (5.8.0)\n",
      "Requirement already satisfied: wcwidth>=0.1.4 in c:\\users\\santi\\anaconda3\\lib\\site-packages (from blessed>=1.17.1->gpustat>=1.0.0b1->ray[serve]) (0.2.5)\n",
      "Requirement already satisfied: jinxed>=1.1.0 in c:\\users\\santi\\anaconda3\\lib\\site-packages (from blessed>=1.17.1->gpustat>=1.0.0b1->ray[serve]) (1.1.0)\n",
      "Requirement already satisfied: ansicon in c:\\users\\santi\\anaconda3\\lib\\site-packages (from jinxed>=1.1.0->blessed>=1.17.1->gpustat>=1.0.0b1->ray[serve]) (1.89.0)\n",
      "Requirement already satisfied: packaging>=20.4 in c:\\users\\santi\\anaconda3\\lib\\site-packages (from redis>=3.5.0->ray[serve]) (21.0)\n",
      "Requirement already satisfied: deprecated>=1.2.3 in c:\\users\\santi\\anaconda3\\lib\\site-packages (from redis>=3.5.0->ray[serve]) (1.2.13)\n",
      "Requirement already satisfied: wrapt<2,>=1.10 in c:\\users\\santi\\anaconda3\\lib\\site-packages (from deprecated>=1.2.3->redis>=3.5.0->ray[serve]) (1.12.1)\n",
      "Requirement already satisfied: pyparsing>=2.0.2 in c:\\users\\santi\\anaconda3\\lib\\site-packages (from packaging>=20.4->redis>=3.5.0->ray[serve]) (3.0.4)\n",
      "Requirement already satisfied: idna>=2.0 in c:\\users\\santi\\anaconda3\\lib\\site-packages (from yarl<2.0,>=1.0->aiohttp>=3.7->ray[serve]) (3.2)\n",
      "Requirement already satisfied: pydantic!=1.7,!=1.7.1,!=1.7.2,!=1.7.3,!=1.8,!=1.8.1,<2.0.0,>=1.6.2 in c:\\users\\santi\\anaconda3\\lib\\site-packages (from fastapi->ray[serve]) (1.9.0)\n",
      "Requirement already satisfied: anyio<4,>=3.0.0 in c:\\users\\santi\\anaconda3\\lib\\site-packages (from starlette->ray[serve]) (3.5.0)\n",
      "Requirement already satisfied: sniffio>=1.1 in c:\\users\\santi\\anaconda3\\lib\\site-packages (from anyio<4,>=3.0.0->starlette->ray[serve]) (1.2.0)\n",
      "Requirement already satisfied: typing-extensions>=3.7.4.3 in c:\\users\\santi\\anaconda3\\lib\\site-packages (from pydantic!=1.7,!=1.7.1,!=1.7.2,!=1.7.3,!=1.8,!=1.8.1,<2.0.0,>=1.6.2->fastapi->ray[serve]) (3.10.0.2)\n",
      "Requirement already satisfied: setuptools in c:\\users\\santi\\anaconda3\\lib\\site-packages (from jsonschema->ray[serve]) (58.0.4)\n",
      "Requirement already satisfied: pyrsistent>=0.14.0 in c:\\users\\santi\\anaconda3\\lib\\site-packages (from jsonschema->ray[serve]) (0.18.0)\n",
      "Requirement already satisfied: google-api-core<3.0.0,>=1.0.0 in c:\\users\\santi\\anaconda3\\lib\\site-packages (from opencensus->ray[serve]) (2.5.0)\n",
      "Requirement already satisfied: opencensus-context==0.1.2 in c:\\users\\santi\\anaconda3\\lib\\site-packages (from opencensus->ray[serve]) (0.1.2)\n",
      "Requirement already satisfied: google-auth<3.0dev,>=1.25.0 in c:\\users\\santi\\anaconda3\\lib\\site-packages (from google-api-core<3.0.0,>=1.0.0->opencensus->ray[serve]) (2.6.0)\n",
      "Requirement already satisfied: googleapis-common-protos<2.0dev,>=1.52.0 in c:\\users\\santi\\anaconda3\\lib\\site-packages (from google-api-core<3.0.0,>=1.0.0->opencensus->ray[serve]) (1.55.0)\n",
      "Requirement already satisfied: rsa<5,>=3.1.4 in c:\\users\\santi\\anaconda3\\lib\\site-packages (from google-auth<3.0dev,>=1.25.0->google-api-core<3.0.0,>=1.0.0->opencensus->ray[serve]) (4.8)\n",
      "Requirement already satisfied: pyasn1-modules>=0.2.1 in c:\\users\\santi\\anaconda3\\lib\\site-packages (from google-auth<3.0dev,>=1.25.0->google-api-core<3.0.0,>=1.0.0->opencensus->ray[serve]) (0.2.8)\n",
      "Requirement already satisfied: cachetools<6.0,>=2.0.0 in c:\\users\\santi\\anaconda3\\lib\\site-packages (from google-auth<3.0dev,>=1.25.0->google-api-core<3.0.0,>=1.0.0->opencensus->ray[serve]) (5.0.0)\n",
      "\n",
      "Requirement already satisfied: pyasn1<0.5.0,>=0.4.6 in c:\\users\\santi\\anaconda3\\lib\\site-packages (from pyasn1-modules>=0.2.1->google-auth<3.0dev,>=1.25.0->google-api-core<3.0.0,>=1.0.0->opencensus->ray[serve]) (0.4.8)\n",
      "Requirement already satisfied: certifi>=2017.4.17 in c:\\users\\santi\\anaconda3\\lib\\site-packages (from requests->ray[serve]) (2021.10.8)\n",
      "Requirement already satisfied: urllib3<1.27,>=1.21.1 in c:\\users\\santi\\anaconda3\\lib\\site-packages (from requests->ray[serve]) (1.26.7)\n",
      "Requirement already satisfied: asgiref>=3.4.0 in c:\\users\\santi\\anaconda3\\lib\\site-packages (from uvicorn->ray[serve]) (3.5.0)\n",
      "Requirement already satisfied: h11>=0.8 in c:\\users\\santi\\anaconda3\\lib\\site-packages (from uvicorn->ray[serve]) (0.13.0)\n"
     ]
    }
   ],
   "source": [
    "pip install \"ray[serve]\""
   ]
  },
  {
   "cell_type": "code",
   "execution_count": 2,
   "id": "e6ea6e06",
   "metadata": {
    "collapsed": true
   },
   "outputs": [
    {
     "name": "stdout",
     "output_type": "stream",
     "text": [
      "Requirement already satisfied: requests in c:\\users\\santi\\anaconda3\\lib\\site-packages (2.26.0)\n",
      "Requirement already satisfied: idna<4,>=2.5 in c:\\users\\santi\\anaconda3\\lib\\site-packages (from requests) (3.2)\n",
      "Requirement already satisfied: urllib3<1.27,>=1.21.1 in c:\\users\\santi\\anaconda3\\lib\\site-packages (from requests) (1.26.7)\n",
      "Requirement already satisfied: certifi>=2017.4.17 in c:\\users\\santi\\anaconda3\\lib\\site-packages (from requests) (2021.10.8)\n",
      "Requirement already satisfied: charset-normalizer~=2.0.0 in c:\\users\\santi\\anaconda3\\lib\\site-packages (from requests) (2.0.4)\n",
      "Note: you may need to restart the kernel to use updated packages.\n"
     ]
    }
   ],
   "source": [
    "pip install requests"
   ]
  },
  {
   "cell_type": "code",
   "execution_count": 3,
   "id": "ff8e82a3",
   "metadata": {
    "collapsed": true
   },
   "outputs": [
    {
     "name": "stdout",
     "output_type": "stream",
     "text": [
      "Requirement already satisfied: StringGenerator==0.1.5 in c:\\users\\santi\\anaconda3\\lib\\site-packages (0.1.5)\n",
      "Note: you may need to restart the kernel to use updated packages.\n"
     ]
    }
   ],
   "source": [
    "pip install StringGenerator==0.1.5"
   ]
  },
  {
   "cell_type": "code",
   "execution_count": 4,
   "id": "41d01d24",
   "metadata": {},
   "outputs": [],
   "source": [
    "import requests"
   ]
  },
  {
   "cell_type": "code",
   "execution_count": 5,
   "id": "0adfa77d",
   "metadata": {},
   "outputs": [],
   "source": [
    "from strgen import StringGenerator"
   ]
  },
  {
   "cell_type": "code",
   "execution_count": 6,
   "id": "96d668e4",
   "metadata": {},
   "outputs": [],
   "source": [
    "import ray\n",
    "from ray import serve"
   ]
  },
  {
   "cell_type": "code",
   "execution_count": 7,
   "id": "b763c21d",
   "metadata": {},
   "outputs": [
    {
     "name": "stderr",
     "output_type": "stream",
     "text": [
      "2022-05-11 07:15:15,272\tINFO services.py:1338 -- View the Ray dashboard at \u001b[1m\u001b[32mhttp://127.0.0.1:8267\u001b[39m\u001b[22m\n"
     ]
    },
    {
     "data": {
      "text/plain": [
       "{'node_ip_address': '127.0.0.1',\n",
       " 'raylet_ip_address': '127.0.0.1',\n",
       " 'redis_address': '127.0.0.1:6379',\n",
       " 'object_store_address': 'tcp://127.0.0.1:56908',\n",
       " 'raylet_socket_name': 'tcp://127.0.0.1:56575',\n",
       " 'webui_url': '127.0.0.1:8267',\n",
       " 'session_dir': 'C:\\\\Users\\\\santi\\\\AppData\\\\Local\\\\Temp\\\\ray\\\\session_2022-05-11_07-15-14_629635_13564',\n",
       " 'metrics_export_port': 54178,\n",
       " 'node_id': '3f831739172fe3e299ea5b41f046eb4018e4e1a719b6532b4d53be29'}"
      ]
     },
     "execution_count": 7,
     "metadata": {},
     "output_type": "execute_result"
    }
   ],
   "source": [
    "ray.init()"
   ]
  },
  {
   "cell_type": "raw",
   "id": "a79bf530",
   "metadata": {},
   "source": []
  },
  {
   "cell_type": "code",
   "execution_count": 8,
   "id": "1dbbff67",
   "metadata": {},
   "outputs": [
    {
     "name": "stderr",
     "output_type": "stream",
     "text": [
      " pid=4504)\u001b[0m 2022-05-11 07:15:42,478\tINFO checkpoint_path.py:16 -- Using RayInternalKVStore for controller checkpoint and recovery.\n",
      " pid=4504)\u001b[0m 2022-05-11 07:15:42,484\tINFO http_state.py:98 -- Starting HTTP proxy with name 'SERVE_CONTROLLER_ACTOR:UxPdom:SERVE_PROXY_ACTOR-node:127.0.0.1-0' on node 'node:127.0.0.1-0' listening on '127.0.0.1:8000'\n",
      "2022-05-11 07:15:42,999\tINFO api.py:463 -- Started Serve instance in namespace '890f3003-01e8-49d9-b00b-7048fc535137'.\n"
     ]
    },
    {
     "data": {
      "text/plain": [
       "<ray.serve.api.Client at 0x1dd5690e160>"
      ]
     },
     "execution_count": 8,
     "metadata": {},
     "output_type": "execute_result"
    },
    {
     "name": "stderr",
     "output_type": "stream",
     "text": [
      "\u001b[2m\u001b[36m(HTTPProxyActor\r",
      " pid=15808)\u001b[0m INFO:     Started server process [15808]\r\n"
     ]
    }
   ],
   "source": [
    "serve.start()"
   ]
  },
  {
   "cell_type": "code",
   "execution_count": 9,
   "id": "2f3b2b1b",
   "metadata": {},
   "outputs": [],
   "source": [
    "def fac(n):\n",
    "    res = 1\n",
    "    for i in range (1,n+1):\n",
    "        res*= i\n",
    "    return res\n",
    "def fib(n):\n",
    "    if n<= 1:\n",
    "        return n\n",
    "    else: \n",
    "        return fib(n-1)+ fib(n-2)\n"
   ]
  },
  {
   "cell_type": "code",
   "execution_count": 10,
   "id": "05ee549a",
   "metadata": {},
   "outputs": [
    {
     "data": {
      "text/plain": [
       "126"
      ]
     },
     "execution_count": 10,
     "metadata": {},
     "output_type": "execute_result"
    }
   ],
   "source": [
    "eval('2+4+fac(5)' )"
   ]
  },
  {
   "cell_type": "markdown",
   "id": "ed6f4478",
   "metadata": {},
   "source": [
    "Importamos los request para trabajar en las peticiones\n"
   ]
  },
  {
   "cell_type": "code",
   "execution_count": 11,
   "id": "d5bb6b95",
   "metadata": {},
   "outputs": [],
   "source": [
    "from starlette.requests import Request\n",
    "from starlette.responses import Response"
   ]
  },
  {
   "cell_type": "code",
   "execution_count": 12,
   "id": "482301c3",
   "metadata": {},
   "outputs": [],
   "source": [
    "@serve.deployment\n",
    "def evaluar(request):\n",
    "    def fib(n):\n",
    "        if n<= 1:\n",
    "            return n\n",
    "        else: \n",
    "            return fib(n-1)+ fib(n-2)\n",
    "    def fac(n):\n",
    "        res = 1\n",
    "        for i in range (1,n+1):\n",
    "            res*= i\n",
    "        return res\n",
    "    operacion = request.url.path.split(\"evaluar/\")[-1]\n",
    "    return eval(operacion)"
   ]
  },
  {
   "cell_type": "code",
   "execution_count": 13,
   "id": "118bec2b",
   "metadata": {},
   "outputs": [
    {
     "name": "stderr",
     "output_type": "stream",
     "text": [
      "2022-05-11 07:16:02,283\tINFO api.py:242 -- Updating deployment 'evaluar'. component=serve deployment=evaluar\n",
      " pid=4504)\u001b[0m 2022-05-11 07:16:02,301\tINFO deployment_state.py:912 -- Adding 1 replicas to deployment 'evaluar'. component=serve deployment=evaluar\n",
      "2022-05-11 07:16:02,789\tINFO api.py:249 -- Deployment 'evaluar' is ready at `http://127.0.0.1:8000/evaluar`. component=serve deployment=evaluar\n"
     ]
    }
   ],
   "source": [
    "evaluar.deploy()"
   ]
  },
  {
   "cell_type": "code",
   "execution_count": 14,
   "id": "813c6ee8",
   "metadata": {},
   "outputs": [],
   "source": [
    "def evaluacion_remota(entrada):\n",
    "    r = requests.get('http://127.0.0.1:8000/evaluar/'+entrada)\n",
    "    return r.content"
   ]
  },
  {
   "cell_type": "code",
   "execution_count": null,
   "id": "10adfc6f",
   "metadata": {},
   "outputs": [],
   "source": [
    "evaluacion_remota('2+2*6')"
   ]
  },
  {
   "cell_type": "code",
   "execution_count": null,
   "id": "bb9dff66",
   "metadata": {},
   "outputs": [],
   "source": [
    "def generar_operacion(dificultad):\n",
    "    funcion=[0,0,0,0,0]\n",
    "    funcion[0]= StringGenerator('[ ] |(fac)|(fib)').render()\n",
    "    funcion[1]= StringGenerator('[1-9]{%s}' % dificultad).render()\n",
    "    funcion[2]= StringGenerator('[+-*/%]').render()\n",
    "    funcion[3]= StringGenerator('[ ]|(fac)|(fib)').render()\n",
    "    funcion[4]= StringGenerator('[1-9]{%s}' % dificultad).render()\n",
    "    operacions=funcion[0]+'('+funcion[1]+')'+funcion[2]+funcion[3]+'('+funcion[4]+')'\n",
    "    return operacions"
   ]
  },
  {
   "cell_type": "code",
   "execution_count": null,
   "id": "61949052",
   "metadata": {},
   "outputs": [],
   "source": [
    "generar_operacion(3)"
   ]
  },
  {
   "cell_type": "code",
   "execution_count": null,
   "id": "da11f93d",
   "metadata": {},
   "outputs": [],
   "source": [
    "operacion=generar_operacion(1)\n",
    "resultado = evaluacion_remota(operacion)\n",
    "print(operacion,resultado)"
   ]
  },
  {
   "cell_type": "code",
   "execution_count": null,
   "id": "68dffb43",
   "metadata": {},
   "outputs": [],
   "source": [
    "evaluacion_remota(operacion=generar_operacion())"
   ]
  },
  {
   "cell_type": "code",
   "execution_count": null,
   "id": "e729a2b4",
   "metadata": {},
   "outputs": [],
   "source": []
  },
  {
   "cell_type": "code",
   "execution_count": null,
   "id": "2917c6b5",
   "metadata": {},
   "outputs": [],
   "source": []
  }
 ],
 "metadata": {
  "kernelspec": {
   "display_name": "Python 3 (ipykernel)",
   "language": "python",
   "name": "python3"
  },
  "language_info": {
   "codemirror_mode": {
    "name": "ipython",
    "version": 3
   },
   "file_extension": ".py",
   "mimetype": "text/x-python",
   "name": "python",
   "nbconvert_exporter": "python",
   "pygments_lexer": "ipython3",
   "version": "3.9.7"
  }
 },
 "nbformat": 4,
 "nbformat_minor": 5
}
