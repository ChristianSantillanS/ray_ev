{
 "cells": [
  {
   "cell_type": "code",
   "execution_count": null,
   "id": "a76fcced",
   "metadata": {
    "scrolled": true
   },
   "outputs": [],
   "source": [
    "pip install \"ray[serve]\"\n"
   ]
  },
  {
   "cell_type": "code",
   "execution_count": 1,
   "id": "fdcec21c",
   "metadata": {},
   "outputs": [],
   "source": [
    "import ray "
   ]
  },
  {
   "cell_type": "code",
   "execution_count": 2,
   "id": "9ba07f93",
   "metadata": {},
   "outputs": [],
   "source": [
    "from ray import serve"
   ]
  },
  {
   "cell_type": "code",
   "execution_count": 3,
   "id": "539e468e",
   "metadata": {},
   "outputs": [
    {
     "name": "stderr",
     "output_type": "stream",
     "text": [
      "2022-05-12 06:59:18,969\tINFO services.py:1338 -- View the Ray dashboard at \u001b[1m\u001b[32mhttp://127.0.0.1:8265\u001b[39m\u001b[22m\n"
     ]
    },
    {
     "data": {
      "text/plain": [
       "{'node_ip_address': '127.0.0.1',\n",
       " 'raylet_ip_address': '127.0.0.1',\n",
       " 'redis_address': '127.0.0.1:6379',\n",
       " 'object_store_address': 'tcp://127.0.0.1:64303',\n",
       " 'raylet_socket_name': 'tcp://127.0.0.1:63081',\n",
       " 'webui_url': '127.0.0.1:8265',\n",
       " 'session_dir': 'C:\\\\Users\\\\santi\\\\AppData\\\\Local\\\\Temp\\\\ray\\\\session_2022-05-12_06-59-11_161858_13472',\n",
       " 'metrics_export_port': 64767,\n",
       " 'node_id': '50935ffbf21b59f47b1538f452781b626506eea6de76ad71a8b8d6bf'}"
      ]
     },
     "execution_count": 3,
     "metadata": {},
     "output_type": "execute_result"
    }
   ],
   "source": [
    "import requests\n",
    "from strgen import StringGenerator\n",
    "ray.init()"
   ]
  },
  {
   "cell_type": "code",
   "execution_count": 4,
   "id": "7f5bf64d",
   "metadata": {},
   "outputs": [
    {
     "name": "stderr",
     "output_type": "stream",
     "text": [
      " pid=17052)\u001b[0m 2022-05-12 06:59:29,268\tINFO checkpoint_path.py:16 -- Using RayInternalKVStore for controller checkpoint and recovery.\n",
      " pid=17052)\u001b[0m 2022-05-12 06:59:29,302\tINFO http_state.py:98 -- Starting HTTP proxy with name 'SERVE_CONTROLLER_ACTOR:TEBpDF:SERVE_PROXY_ACTOR-node:127.0.0.1-0' on node 'node:127.0.0.1-0' listening on '127.0.0.1:8000'\n",
      "2022-05-12 06:59:30,096\tINFO api.py:463 -- Started Serve instance in namespace '9974bdc9-a841-4dcb-a5fa-7ffda7286624'.\n"
     ]
    },
    {
     "data": {
      "text/plain": [
       "<ray.serve.api.Client at 0x2c6f4020fd0>"
      ]
     },
     "execution_count": 4,
     "metadata": {},
     "output_type": "execute_result"
    }
   ],
   "source": [
    "serve.start()"
   ]
  },
  {
   "cell_type": "code",
   "execution_count": 5,
   "id": "a98545fa",
   "metadata": {},
   "outputs": [],
   "source": [
    "def fac(n):\n",
    "    res = 1\n",
    "    for i in range (1,n+1):\n",
    "        res*= i\n",
    "    return res"
   ]
  },
  {
   "cell_type": "code",
   "execution_count": 6,
   "id": "81bb02a5",
   "metadata": {},
   "outputs": [],
   "source": [
    "def fib(n):\n",
    "    if n<= 1:\n",
    "        return n\n",
    "    else: \n",
    "        return fib(n-1)+ fib(n-2)\n"
   ]
  },
  {
   "cell_type": "code",
   "execution_count": 7,
   "id": "606e7193",
   "metadata": {},
   "outputs": [
    {
     "data": {
      "text/plain": [
       "126"
      ]
     },
     "execution_count": 7,
     "metadata": {},
     "output_type": "execute_result"
    },
    {
     "name": "stderr",
     "output_type": "stream",
     "text": [
      "\u001b[2m\u001b[36m(HTTPProxyActor\r",
      " pid=15924)\u001b[0m INFO:     Started server process [15924]\r\n"
     ]
    }
   ],
   "source": [
    "eval('2+4+fac(5)' )"
   ]
  },
  {
   "cell_type": "code",
   "execution_count": 8,
   "id": "5047f148",
   "metadata": {},
   "outputs": [],
   "source": [
    "from starlette.requests import Request\n",
    "from starlette.responses import Response"
   ]
  },
  {
   "cell_type": "code",
   "execution_count": 18,
   "id": "e9060a63",
   "metadata": {},
   "outputs": [],
   "source": [
    "@serve.deployment\n",
    "\n",
    "def evaluar(request):\n",
    "    def fib(n):\n",
    "        if n<= 1:\n",
    "            return n\n",
    "        else: \n",
    "            return fib(n-1)+ fib(n-2)\n",
    "    def fac(n):\n",
    "        res = 1\n",
    "        for i in range (1,n+1):\n",
    "            res*= i\n",
    "        return res\n",
    "    operacion = request.url.path.split(\"evaluar/\")[-1]\n",
    "    return eval(operacion)"
   ]
  },
  {
   "cell_type": "code",
   "execution_count": 10,
   "id": "49c38891",
   "metadata": {},
   "outputs": [
    {
     "name": "stderr",
     "output_type": "stream",
     "text": [
      "2022-05-12 06:59:30,206\tINFO api.py:242 -- Updating deployment 'evaluar'. component=serve deployment=evaluar\n",
      " pid=17052)\u001b[0m 2022-05-12 06:59:30,301\tINFO deployment_state.py:912 -- Adding 1 replicas to deployment 'evaluar'. component=serve deployment=evaluar\n",
      "2022-05-12 06:59:30,994\tINFO api.py:249 -- Deployment 'evaluar' is ready at `http://127.0.0.1:8000/evaluar`. component=serve deployment=evaluar\n"
     ]
    }
   ],
   "source": [
    "evaluar.deploy()"
   ]
  },
  {
   "cell_type": "code",
   "execution_count": 19,
   "id": "f7ea4c44",
   "metadata": {},
   "outputs": [],
   "source": [
    "@ray.remote\n",
    "def evaluacion_remota(entrada):\n",
    "    r = requests.get('http://127.0.0.1:8000/evaluar/'+entrada)\n",
    "    return r.content"
   ]
  },
  {
   "cell_type": "code",
   "execution_count": 12,
   "id": "eb3b5641",
   "metadata": {},
   "outputs": [
    {
     "data": {
      "text/plain": [
       "b'14'"
      ]
     },
     "execution_count": 12,
     "metadata": {},
     "output_type": "execute_result"
    }
   ],
   "source": [
    "evaluacion_remota('2+2*6')"
   ]
  },
  {
   "cell_type": "markdown",
   "id": "2fe4539a",
   "metadata": {},
   "source": [
    "Relizar operaciones matematicas aleatorias"
   ]
  },
  {
   "cell_type": "code",
   "execution_count": 20,
   "id": "2f5ad779",
   "metadata": {},
   "outputs": [],
   "source": [
    "@ray.remote\n",
    "def generar_operacion(dificultad):\n",
    "    funcion=[0,0,0,0,0]\n",
    "    funcion[0]= StringGenerator('[ ] |(fac)|(fib)').render()\n",
    "    funcion[1]= StringGenerator('[1-9]{%s}' % dificultad).render()\n",
    "    funcion[2]= StringGenerator('[+-*/%]').render()\n",
    "    funcion[3]= StringGenerator('[ ]|(fac)|(fib)').render()\n",
    "    funcion[4]= StringGenerator('[1-9]{%s}' % dificultad).render()\n",
    "    operacions=funcion[0]+'('+funcion[1]+')'+funcion[2]+funcion[3]+'('+funcion[4]+')'\n",
    "    return operacions"
   ]
  },
  {
   "cell_type": "code",
   "execution_count": 14,
   "id": "c5b06163",
   "metadata": {},
   "outputs": [
    {
     "data": {
      "text/plain": [
       "' fac(6)/ (4)'"
      ]
     },
     "execution_count": 14,
     "metadata": {},
     "output_type": "execute_result"
    }
   ],
   "source": [
    "generar_operacion(1)"
   ]
  },
  {
   "cell_type": "code",
   "execution_count": 15,
   "id": "9636df81",
   "metadata": {},
   "outputs": [
    {
     "name": "stdout",
     "output_type": "stream",
     "text": [
      " fib(1)%fib(6) b'1'\n"
     ]
    }
   ],
   "source": [
    "operacion=generar_operacion(1)\n",
    "resultado = evaluacion_remota(operacion)\n",
    "print(operacion,resultado)"
   ]
  },
  {
   "cell_type": "code",
   "execution_count": 16,
   "id": "432f9164",
   "metadata": {},
   "outputs": [
    {
     "data": {
      "text/plain": [
       "b'0.2833333333333333'"
      ]
     },
     "execution_count": 16,
     "metadata": {},
     "output_type": "execute_result"
    }
   ],
   "source": [
    "evaluacion_remota(generar_operacion(1))"
   ]
  },
  {
   "cell_type": "markdown",
   "id": "d5ad0df9",
   "metadata": {},
   "source": [
    "Apagar Ray en caso de saturarse\n"
   ]
  },
  {
   "cell_type": "code",
   "execution_count": null,
   "id": "bd076762",
   "metadata": {},
   "outputs": [],
   "source": [
    "ray.shutdown()"
   ]
  },
  {
   "cell_type": "code",
   "execution_count": null,
   "id": "41a25005",
   "metadata": {},
   "outputs": [],
   "source": []
  },
  {
   "cell_type": "code",
   "execution_count": null,
   "id": "cc21cb14",
   "metadata": {},
   "outputs": [],
   "source": []
  }
 ],
 "metadata": {
  "kernelspec": {
   "display_name": "Python 3 (ipykernel)",
   "language": "python",
   "name": "python3"
  },
  "language_info": {
   "codemirror_mode": {
    "name": "ipython",
    "version": 3
   },
   "file_extension": ".py",
   "mimetype": "text/x-python",
   "name": "python",
   "nbconvert_exporter": "python",
   "pygments_lexer": "ipython3",
   "version": "3.9.7"
  }
 },
 "nbformat": 4,
 "nbformat_minor": 5
}
